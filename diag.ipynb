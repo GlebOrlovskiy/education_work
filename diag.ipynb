{
  "nbformat": 4,
  "nbformat_minor": 0,
  "metadata": {
    "colab": {
      "provenance": []
    },
    "kernelspec": {
      "name": "python3",
      "display_name": "Python 3"
    },
    "language_info": {
      "name": "python"
    }
  },
  "cells": [
    {
      "cell_type": "markdown",
      "source": [
        "Реализация алгоритма диагонализации матрицы из книги автора Тыртышкин \"Матричный анализ и линейная алгебра\""
      ],
      "metadata": {
        "id": "7hmP48CGtrYO"
      }
    },
    {
      "cell_type": "code",
      "execution_count": 8,
      "metadata": {
        "colab": {
          "base_uri": "https://localhost:8080/"
        },
        "id": "d_soxnEPAjVQ",
        "outputId": "b3025a37-3535-4d2b-955b-692d7e72cefd"
      },
      "outputs": [
        {
          "output_type": "stream",
          "name": "stdout",
          "text": [
            "[[-4.89457791e+01 -4.44505614e-14  2.49433060e-09]\n",
            " [-2.91249066e-14  1.45344930e+03  1.38608557e-13]\n",
            " [ 2.49434535e-09  1.24413774e-13 -4.13146809e+02]]\n"
          ]
        }
      ],
      "source": [
        "import numpy as np\n",
        "\n",
        "def f(A, eps):\n",
        "  def h(A): #сумма внедиагональных элементов\n",
        "    sum = 0.0\n",
        "    for i in range(A.shape[0]):\n",
        "      for j in range(i):\n",
        "        sum = sum + 2*A[i][j]*A[i][j]\n",
        "    return sum\n",
        "  def matrix_rotate(A, i, j): #возвращает матрицу поворота (i < j) зануляющую a_ij и a_ji\n",
        "    E = np.eye(A.shape[0])\n",
        "    fi = 0.0\n",
        "    if(np.isclose(A[i][j], 0.0)):\n",
        "      fi = 0.0\n",
        "    else:\n",
        "      fi = (np.pi/2.0 - np.arctan((A[i][i] - A[j][j])/(2.0*A[i][j])))/2.0\n",
        "    E[i][i] = np.cos(fi)\n",
        "    E[j][j] = np.cos(fi)\n",
        "    E[i][j] = (-1.0)*np.sin(fi)\n",
        "    E[j][i] = np.sin(fi)\n",
        "    return E\n",
        "\n",
        "  def search(A):#поиск наибольшего внедиагонального элемента\n",
        "    max = (-1, 0)\n",
        "    for j in range(A.shape[0]):\n",
        "      for i in range(j):\n",
        "        if(max[0] == -1):\n",
        "          max = (i, j)\n",
        "        else:\n",
        "          if(np.abs(A[i][j]) > np.abs(A[max[0]][max[1]])): max = (i, j)\n",
        "    return max\n",
        "  h0 = h(A)\n",
        "  k = round(np.log(eps/h(A))/np.log(1 - 2.0/(A.shape[0]*A.shape[0] - A.shape[0]))) #кол-во шагов\n",
        "  for i in range(k):\n",
        "    max_abs = search(A)\n",
        "    R = matrix_rotate(A, max_abs[0], max_abs[1])\n",
        "    A = R.transpose() @ A @ R\n",
        "  #print((np.power(1.0 - 2.0/(A.shape[0]*A.shape[0] - A.shape[0]), k)*h0 - h(A) >= 0)) проверка оценки\n",
        "  return A\n",
        "\n",
        "def create_random_symmetrical_matrix(n):\n",
        "  A = np.eye(n)\n",
        "  for i in range(n):\n",
        "    for j in range(i + 1):\n",
        "      value = np.random.random()*1000.0\n",
        "      A[i][j] = value\n",
        "      A[j][i] = value\n",
        "  return A\n",
        "\n",
        "A = create_random_symmetrical_matrix(3)\n",
        "print(f(A, 0.0000001))\n"
      ]
    },
    {
      "cell_type": "markdown",
      "source": [],
      "metadata": {
        "id": "5SfshhAQAo_G"
      }
    }
  ]
}